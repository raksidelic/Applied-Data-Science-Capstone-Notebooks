{
 "cells":[
  {
   "cell_type":"code",
   "source":[
    "# Import required packages\n",
    "from dash import Dash, html, dcc\n",
    "import plotly.express as px\n",
    "import pandas as pd\n",
    "from dash.dependencies import Input, Output"
   ],
   "execution_count":2,
   "outputs":[
    
   ],
   "metadata":{
    "datalore":{
     "type":"CODE",
     "hide_input_from_viewers":false,
     "hide_output_from_viewers":false
    }
   }
  },
  {
   "cell_type":"code",
   "source":[
    "# Read the SpaceX Launch data into pandas dataframe\n",
    "spacex_df = pd.read_csv(\"spacex_launch_dash.csv\")"
   ],
   "execution_count":3,
   "outputs":[
    
   ],
   "metadata":{
    "datalore":{
     "type":"CODE",
     "hide_input_from_viewers":false,
     "hide_output_from_viewers":false
    }
   }
  },
  {
   "cell_type":"code",
   "source":[
    "# Define max and min values of Payload Mass\n",
    "max_payload = spacex_df['Payload Mass (kg)'].max()\n",
    "min_payload = spacex_df['Payload Mass (kg)'].min()"
   ],
   "execution_count":4,
   "outputs":[
    
   ],
   "metadata":{
    "datalore":{
     "type":"CODE",
     "hide_input_from_viewers":false,
     "hide_output_from_viewers":false
    }
   }
  },
  {
   "cell_type":"code",
   "source":[
    "# Create a dash application\n",
    "app = Dash(__name__)"
   ],
   "execution_count":5,
   "outputs":[
    
   ],
   "metadata":{
    "datalore":{
     "type":"CODE",
     "hide_input_from_viewers":false,
     "hide_output_from_viewers":false
    }
   }
  },
  {
   "cell_type":"code",
   "source":[
    "# Application layout\n",
    "app.layout = html.Div(children=[\n",
    "    html.H1('SpaceX Launch Records Dashboard',\n",
    "            style={'textAlign': 'center', 'color': '#503D36', 'font-size': 24}),\n",
    "\n",
    "    # Create an outer division (It is the root division)\n",
    "    html.Div([\n",
    "        # Add a division (In this project, we just have one division)\n",
    "        html.Div([\n",
    "            # Create a division for adding dropdown helper text for report type\n",
    "            html.Div(\n",
    "                [\n",
    "                    html.H2('Launch Site:', style={'margin-right': '1em'}),\n",
    "                ]\n",
    "            ),\n",
    "\n",
    "            # The default select value is for ALL sites\n",
    "            # Add a dropdown\n",
    "            dcc.Dropdown(id='site-dropdown',\n",
    "                         options=[\n",
    "                             {'label': 'All Sites', 'value': 'ALL'},\n",
    "                             {'label': 'CCAFS LC-40', 'value': 'CCAFS LC-40'},\n",
    "                             {'label': 'VAFB SLC-4E', 'value': 'VAFB SLC-4E'},\n",
    "                             {'label': 'KSC LC-39A', 'value': 'KSC LC-39A'},\n",
    "                             {'label': 'CCAFS SLC-40', 'value': 'CCAFS SLC-40'}\n",
    "                         ],\n",
    "                         value='ALL',\n",
    "                         placeholder=\"Select a Launch Site here\",\n",
    "                         searchable=True,\n",
    "                         style={'width': '80%', 'padding': '3px', 'font-size': '20px', 'text-align-last': 'center'}\n",
    "                         )\n",
    "            # Place them next to each other using the division style\n",
    "        ], style={'display': 'flex'}),\n",
    "    ]),\n",
    "\n",
    "    # Define the graphs and their order.\n",
    "\n",
    "    # Add a pie chart to show the total successful launches count for all sites\n",
    "    # If a specific launch site was selected, show the Success vs. Failed counts for the site\n",
    "    html.Div(dcc.Graph(id='success-pie-chart')),\n",
    "\n",
    "    html.P(\"Payload range (Kg):\"),\n",
    "    # Add a slider to select payload range\n",
    "    dcc.RangeSlider(id='payload-slider',\n",
    "                    min=0, max=10000, step=2500,\n",
    "                    marks={0: '0',\n",
    "                           2500: '2500',\n",
    "                           5000: '5000',\n",
    "                           7500: '7500',\n",
    "                           10000: '10000'},\n",
    "                    value=[min_payload, max_payload]),\n",
    "\n",
    "    # Add a scatter chart to show the correlation between payload and launch success\n",
    "    html.Div(dcc.Graph(id='success-payload-scatter-chart')),\n",
    "])"
   ],
   "execution_count":6,
   "outputs":[
    
   ],
   "metadata":{
    "datalore":{
     "type":"CODE",
     "hide_input_from_viewers":false,
     "hide_output_from_viewers":false
    }
   }
  },
  {
   "cell_type":"code",
   "source":[
    "# Add a callback function for `site-dropdown` as input, `success-pie-chart` as output\n",
    "@app.callback(Output(component_id='success-pie-chart', component_property='figure'),\n",
    "              Input(component_id='site-dropdown', component_property='value'))\n",
    "# Add computation to callback function and return graph\n",
    "def get_pie_chart(entered_site):\n",
    "    filtered_df = spacex_df\n",
    "    if entered_site == 'ALL':\n",
    "        fig = px.pie(filtered_df, values='class',\n",
    "                     names='Launch Site',\n",
    "                     title='Launch Success')\n",
    "        return fig\n",
    "    else:\n",
    "        # Return the outcomes pie chart for a selected site\n",
    "        filtered_df = spacex_df[spacex_df['Launch Site'] == entered_site]\n",
    "        filtered_df = filtered_df.groupby(['Launch Site', 'class']).size().reset_index(name='class-count')\n",
    "        fig = px.pie(filtered_df, values='class-count', names='class', title='Total Success Launches for site')\n",
    "        return fig"
   ],
   "execution_count":6,
   "outputs":[
    
   ],
   "metadata":{
    "datalore":{
     "type":"CODE",
     "hide_input_from_viewers":false,
     "hide_output_from_viewers":false
    }
   }
  },
  {
   "cell_type":"code",
   "source":[
    "# Add a callback function for `site-dropdown` and `payload-slider` as inputs, `success-payload-scatter-chart` as output\n",
    "@app.callback(Output(component_id='success-payload-scatter-chart', component_property='figure'),\n",
    "              [Input(component_id='site-dropdown', component_property='value'),\n",
    "               Input(component_id='payload-slider', component_property='value')])\n",
    "# Add computation to callback function and return graph\n",
    "def get_scatter_chart(site_dropdown, payload_slider):\n",
    "    low, high = payload_slider\n",
    "    mask = (spacex_df['Payload Mass (kg)'] >= low) & (spacex_df['Payload Mass (kg)'] <= high)\n",
    "    filtered_df = spacex_df[mask]\n",
    "    if site_dropdown == 'ALL':\n",
    "        fig = px.scatter(filtered_df, x='Payload Mass (kg)', y='class',\n",
    "                         color='Booster Version Category',\n",
    "                         title='Payload vs. Outcome for All Sites')\n",
    "        return fig\n",
    "    else:\n",
    "        # Return the outcomes scatter chart for a selected site\n",
    "        filtered_df1 = filtered_df[filtered_df['Launch Site'] == site_dropdown]\n",
    "        fig = px.scatter(filtered_df1, x='Payload Mass (kg)', y='class',\n",
    "                         color='Booster Version Category',\n",
    "                         title='Payload and Booster Versions for site')\n",
    "        return fig"
   ],
   "execution_count":7,
   "outputs":[
    
   ],
   "metadata":{
    "datalore":{
     "type":"CODE",
     "hide_input_from_viewers":false,
     "hide_output_from_viewers":false
    }
   }
  },
  {
   "cell_type":"code",
   "source":[
    "# Run the app\n",
    "if __name__ == '__main__':\n",
    "    app.run_server()"
   ],
   "execution_count":8,
   "outputs":[
    {
     "name":"stdout",
     "text":[
      "Dash is running on http:\/\/127.0.0.1:8050\/\n",
      "\n",
      " * Serving Flask app '__main__' (lazy loading)\n",
      " * Environment: production\n",
      "\u001b[31m   WARNING: This is a development server. Do not use it in a production deployment.\u001b[0m\n",
      "\u001b[2m   Use a production WSGI server instead.\u001b[0m\n",
      " * Debug mode: off\n"
     ],
     "output_type":"stream"
    },
    {
     "name":"stderr",
     "text":[
      " * Running on http:\/\/127.0.0.1:8050 (Press CTRL+C to quit)\n"
     ],
     "output_type":"stream"
    }
   ],
   "metadata":{
    "datalore":{
     "type":"CODE",
     "hide_input_from_viewers":false,
     "hide_output_from_viewers":false
    }
   }
  },
  {
   "cell_type":"code",
   "source":[
    
   ],
   "execution_count":null,
   "outputs":[
    
   ],
   "metadata":{
    "datalore":{
     "type":"CODE",
     "hide_input_from_viewers":false,
     "hide_output_from_viewers":false
    }
   }
  }
 ],
 "metadata":{
  "datalore":{
   "version":1,
   "computation_mode":"JUPYTER",
   "package_manager":"pip",
   "base_environment":"default",
   "packages":[
    {
     "name":"dash",
     "version":"2.5.0",
     "source":"PIP"
    }
   ]
  }
 },
 "nbformat":4,
 "nbformat_minor":4
}
